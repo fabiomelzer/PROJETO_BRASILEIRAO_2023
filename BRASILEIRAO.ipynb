{
 "cells": [
  {
   "cell_type": "markdown",
   "metadata": {},
   "source": [
    "TRANSFORMAR ARQUIVO .CSV EM BANCO DE DADOS SQL (SQLITE3)"
   ]
  },
  {
   "cell_type": "code",
   "execution_count": 26,
   "metadata": {},
   "outputs": [],
   "source": [
    "# 0 - CRIAR NOVO AMBIENTE VIRTUAL (SEMPRE QUE MUDAR DE PROJETO)\n",
    "\n",
    "import pandas as pd\n",
    "\n",
    "# 1 - Carregar CSV\n",
    "df = pd.read_csv(\"PARTIDAS_BRASILEIRAO_2023.csv\", encoding='latin1')\n",
    "\n",
    "# 2 - Puxou todos os dados em 1 coluna apenas, separada por ; - SEPARAR COLUNAS E RENOMEAR AS COLUNAS:\n",
    "df = df['PARTIDA;ROD;TURNO;DATA;HORA;MANDANTE;UF_MANDANTE;PLACAR_MANDANTE;PLACAR_VISITANTE;VISITANTE;UF_VISITANTE;ESTADIO;CIDADE;UF'].str.split(';', expand=True)\n",
    "df.columns = ['PARTIDA', 'ROD', 'TURNO', 'DATA', 'HORA', 'MANDANTE', 'UF_MANDANTE', \n",
    "              'PLACAR_MANDANTE', 'PLACAR_VISITANTE', 'VISITANTE', 'UF_VISITANTE', \n",
    "              'ESTADIO', 'CIDADE', 'UF']"
   ]
  },
  {
   "cell_type": "code",
   "execution_count": 22,
   "metadata": {},
   "outputs": [],
   "source": [
    "# 3 - gerar um banco de dados SQLITE3\n",
    "import sqlite3\n",
    "\n",
    "# 4 - Conectar ao banco de dados SQLite3 (ou criar um novo)\n",
    "conn = sqlite3.connect(\"BRASILEIRAO_2023.db\")\n",
    "\n",
    "# 5 - Salvar o DataFrame como uma tabela no banco de dados\n",
    "df.to_sql(\"JOGOS_BRASILEIRAO_2023\", conn, index=False, if_exists=\"replace\")\n",
    "\n",
    "# 6 - Fechar a conexão com o banco de dados\n",
    "conn.close()"
   ]
  }
 ],
 "metadata": {
  "kernelspec": {
   "display_name": "Python 3",
   "language": "python",
   "name": "python3"
  },
  "language_info": {
   "codemirror_mode": {
    "name": "ipython",
    "version": 3
   },
   "file_extension": ".py",
   "mimetype": "text/x-python",
   "name": "python",
   "nbconvert_exporter": "python",
   "pygments_lexer": "ipython3",
   "version": "3.12.0"
  }
 },
 "nbformat": 4,
 "nbformat_minor": 2
}
